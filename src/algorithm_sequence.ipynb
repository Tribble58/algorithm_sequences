{
 "cells": [
  {
   "cell_type": "code",
   "execution_count": 2,
   "id": "9259dc8d",
   "metadata": {},
   "outputs": [],
   "source": [
    "import re\n",
    "import os\n",
    "import sqlite3\n",
    "import time\n",
    "\n",
    "import pandas as pd\n",
    "\n",
    "from tqdm import tqdm\n",
    "from joblib import Parallel, delayed\n",
    "\n",
    "import matplotlib.pyplot as plt"
   ]
  },
  {
   "cell_type": "markdown",
   "id": "b583b90c",
   "metadata": {},
   "source": [
    "Используя данные телеметрии, определить топ 10 самых популярных сценариев запуска алгоритмов в рамках одной сессии.  \n",
    "Визуализировать полученные данные на дэшборде. Инструмент и тип графиков на усмотрение автора.\n",
    "\n",
    "В ответе необходимо указать:\n",
    "\n",
    "- Общее количество сессий.\n",
    "- Количество выполнений каждого сценария из топ 10 списка.\n",
    "- Последовательность запуска алгоритмов для каждого сценария из топ 10.\n",
    "\n",
    "Структура данных\n",
    "\n",
    "[ApplicationStarted] – Начало сессии\n",
    "[ApplicationClosed] — Окончание сессии\n",
    "[AlgorithmStarted] — Был запущен алгоритм\n",
    "[AlgorithmCompletedTime] — Алгоритм завершен\n",
    "Algorithm {id} — Название алгоритма"
   ]
  },
  {
   "cell_type": "code",
   "execution_count": 128,
   "id": "73b4045f",
   "metadata": {},
   "outputs": [],
   "source": [
    "def get_algorithm(x):\n",
    "    if 'result' in x.lower():\n",
    "        return ' '.join(x.split('.')[0].split(' ')[1:])\n",
    "    elif 'count' in x.lower():\n",
    "        return ' '.join(x.split(',')[0].split(' ')[1:])\n",
    "    else:\n",
    "        return ' '.join(x.split('|')[0].split(' ')[1:])"
   ]
  },
  {
   "cell_type": "code",
   "execution_count": 129,
   "id": "cdff42b3",
   "metadata": {},
   "outputs": [],
   "source": [
    "def execute_sql(query, conn):\n",
    "    return pd.read_sql(ex1_sql_query, con=conn)"
   ]
  },
  {
   "cell_type": "markdown",
   "id": "676c12bc",
   "metadata": {},
   "source": [
    "### EXTRACT & TRANSFORM"
   ]
  },
  {
   "cell_type": "code",
   "execution_count": 3,
   "id": "57f5949c",
   "metadata": {
    "scrolled": true
   },
   "outputs": [
    {
     "name": "stderr",
     "output_type": "stream",
     "text": [
      "100%|██████████████████████████████████████████████████████████████████████████████| 3721/3721 [05:18<00:00, 11.67it/s]\n"
     ]
    }
   ],
   "source": [
    "log_paths = [path for path in os.listdir() if '.log' in path]\n",
    "count = 0\n",
    "limit = len(log_paths)\n",
    "\n",
    "columns = ('session', 'code', 'model', 'date', 'info', 'log_path')\n",
    "df = pd.DataFrame(columns=columns)\n",
    "\n",
    "# error_rows = []\n",
    "error_paths = []\n",
    "\n",
    "for log_path in tqdm(log_paths):\n",
    "    if count == limit:\n",
    "        break\n",
    "    with open(log_path) as file:\n",
    "        log = file.read()\n",
    "    for row in log.split('\\n'):\n",
    "        if row != '':\n",
    "            elements = re.sub('[\\[\\]]', ' ', row).strip().split('  ')\n",
    "            try:\n",
    "                df.loc[len(df)] = elements + [log_path]\n",
    "            except ValueError:\n",
    "#                 error_rows.append(row)\n",
    "                error_paths.append(log_path)\n",
    "    count += 1"
   ]
  },
  {
   "cell_type": "code",
   "execution_count": 107,
   "id": "679dfc6e",
   "metadata": {},
   "outputs": [],
   "source": [
    "df['algo'] = df['info'].apply(lambda x: get_algorithm(x))\n",
    "df['message'] = df['info'].apply(lambda x: x.split(' ')[0])\n",
    "df.head(10)"
   ]
  },
  {
   "cell_type": "markdown",
   "id": "84f82be2",
   "metadata": {},
   "source": [
    "### LOAD"
   ]
  },
  {
   "cell_type": "code",
   "execution_count": 109,
   "id": "1007ed48",
   "metadata": {},
   "outputs": [],
   "source": [
    "with sqlite3.connect(\":memory:\") as conn:\n",
    "    df[df.message == 'AlgorithmStarted'].to_sql(name=\"logs\", con=conn, index=False)\n",
    "    \n",
    "ex1_sql_query = \"\"\"\n",
    "                    with foo1 as (\n",
    "                        with foo as (\n",
    "                            select log_path, group_concat(algo, ' -> ') over(partition by log_path) pattern\n",
    "                            from logs)\n",
    "                        select log_path, pattern\n",
    "                        from foo\n",
    "                        group by log_path)\n",
    "                    select pattern, count(pattern) pattern_counts\n",
    "                    from foo1\n",
    "                    group by pattern\n",
    "                    order by 2 desc;\n",
    "                \"\"\"\n",
    "\n",
    "top10 = execute_sql(ex1_sql_query, conn)\n",
    "top10.to_csv('top10.csv', index=False)"
   ]
  },
  {
   "cell_type": "code",
   "execution_count": 132,
   "id": "eeb1f772",
   "metadata": {},
   "outputs": [
    {
     "name": "stdout",
     "output_type": "stream",
     "text": [
      "Общее количество сессий: 3709\n"
     ]
    }
   ],
   "source": [
    "print(f'Общее количество сессий: {sum(top10.pattern_counts)}')"
   ]
  },
  {
   "cell_type": "code",
   "execution_count": 139,
   "id": "1dddeec1",
   "metadata": {},
   "outputs": [
    {
     "name": "stdout",
     "output_type": "stream",
     "text": [
      "Топ 10 самых популярных последовательностей алгоритмов: \n",
      "Algorithm 7\n",
      "Algorithm 7 -> Algorithm 10 -> Algorithm 15\n",
      "Algorithm 17\n",
      "Algorithm 10\n",
      "Algorithm 7 -> Algorithm 10\n",
      "Algorithm 7 -> Algorithm 8 -> Algorithm 10 -> Algorithm 15\n",
      "Algorithm 13\n",
      "Algorithm 7 -> Algorithm 7\n",
      "Algorithm 7 -> Algorithm 8 -> Algorithm 10\n",
      "Algorithm 6 -> Algorithm 7 -> Algorithm 8 -> Algorithm 10\n"
     ]
    }
   ],
   "source": [
    "print('Топ 10 самых популярных последовательностей алгоритмов: ')\n",
    "for algo_seq in top10.pattern.iloc[:10].values:\n",
    "    print(algo_seq)"
   ]
  },
  {
   "cell_type": "code",
   "execution_count": null,
   "id": "dab2a1c7",
   "metadata": {},
   "outputs": [],
   "source": []
  }
 ],
 "metadata": {
  "kernelspec": {
   "display_name": "Python 3 (ipykernel)",
   "language": "python",
   "name": "python3"
  },
  "language_info": {
   "codemirror_mode": {
    "name": "ipython",
    "version": 3
   },
   "file_extension": ".py",
   "mimetype": "text/x-python",
   "name": "python",
   "nbconvert_exporter": "python",
   "pygments_lexer": "ipython3",
   "version": "3.9.7"
  }
 },
 "nbformat": 4,
 "nbformat_minor": 5
}
